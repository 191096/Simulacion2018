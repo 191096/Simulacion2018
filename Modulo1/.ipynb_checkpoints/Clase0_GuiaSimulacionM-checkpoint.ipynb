{
 "cells": [
  {
   "cell_type": "markdown",
   "metadata": {},
   "source": [
    "___\n",
    "<img style=\"float: right; margin: 0px 0px 15px 15px;\" src=\"https://upload.wikimedia.org/wikipedia/commons/thumb/4/4a/Python3-powered_hello-world.svg/1000px-Python3-powered_hello-world.svg.png\" width=\"300px\" height=\"100px\" />\n",
    "\n",
    "\n",
    "## <font color= #8A0829> Simulación matemática.</font>\n",
    "#### <font color= #2E9AFE>  `Martes(B-210)-Jueves(J-SComputo) de 11:00 a 13:00 hrs`</font>\n",
    "- <Strong> Dr. Michel Emanuel López Franco </Strong>\n",
    "- <Strong> Año </Strong>: 2017\n",
    "- <Strong> Copyright: </Strong> Public Domain como en [CC](https://creativecommons.org/licenses/by/2.0/) (Exepto donde se indique lo contrario)\n",
    "\n",
    "- <Strong> Email: </Strong>  <font color=\"blue\"> `michellopez@iteso.mx, michellopez_16@hotmail.com` </font>\n",
    "___"
   ]
  },
  {
   "cell_type": "markdown",
   "metadata": {},
   "source": [
    "*Este es un curso básico de simulación utilizando python, por ende vamos a iniciar elaborando programas simples y conforme avancemos el nivel de exigencia aumentará, hasta donde el tiempo nos permita. *\n",
    "***"
   ]
  },
  {
   "cell_type": "markdown",
   "metadata": {},
   "source": [
    "### `Descripción de la asignatura`\n",
    "<p style='text-align: justify;'> El resolver problemas derivados de la ingeniería requiere que tengas conocimientos, habilidades y métodos para llegar a una solución adecuada, eficiente y óptima. La simulación matemática de escenarios es una estrategia relevante para resolver tales problemas, consiste en modelar numéricamente los principios físicos y matemáticos que rigen un fenómeno mediante el uso de lenguajes de modelado y herramientas de tecnologías de información. \n",
    "La asignatura está diseñada para que logres dichos propósitos e inicies un proceso que te permita apropiarte de desempeños profesionales muy útiles en tu formación profesional y en tu futuro, al incorporarte a la industria u organizaciones que te demandarán resolver e implementar la simulación de escenarios bajo diferentes situaciones a través de la sistematización de la solución al problema planteado.</p>"
   ]
  },
  {
   "cell_type": "markdown",
   "metadata": {},
   "source": [
    "#### `OBJETIVO GENERAL `\n",
    ">  <p style='text-align: justify;'> A partir de la modelación de fenómenos físicos desarrollarás las competencias necesarias para reproducir escenarios de aplicación profesional que representen de manera más cercana el fenómeno objetivo. Podrás además realizar inferencias que ayuden a la óptima toma de decisiones en la solución de problemas.</p>"
   ]
  },
  {
   "cell_type": "markdown",
   "metadata": {},
   "source": [
    "`Módulo 1.` **Introducción y Ecuaciones Diferenciales**\n",
    "> Se aplicará una evaluación (**exámen**) y se evaluará una presentación de **proyecto.**\n",
    "   1. ¿Qué es una simulación?\n",
    "    - Introducción e instalación de software\n",
    "   2. ¿Cómo funciona `Git` ?\n",
    "   3. ¿Cómo funciona `Github` ?\n",
    "   4. ¿Cómo se muve un péndulo ? \n",
    "   5. ¿Cómo funciona la suspensión de un auto? \n",
    "   6. ¿Cómo crece una población?\n",
    "   7. Modelo del rendimiento de una cuenta de ahorro.\n",
    "   8. ¿Cómo vibra un tambor cuando lo golpeas?"
   ]
  },
  {
   "cell_type": "markdown",
   "metadata": {},
   "source": [
    "`Módulo 2.`  ** Montecarlo **\n",
    "> Se aplicará una evaluación (**exámen**) y se evaluará una presentación de **proyecto.**\n",
    "   1. Caminata aleatoria\n",
    "   2. Difusión en líquidos\n",
    "   3. Integrales\n",
    "   4. Fractales aleatorios\n",
    "   5. Bajar y organizar datos de Yahoo Finance (Pandas)\n",
    "   6. Probabilidad precio-umbral\n",
    "   7. Evaluación de portafolio. "
   ]
  },
  {
   "cell_type": "markdown",
   "metadata": {},
   "source": [
    "`Módulo 3.` ** Optimización **\n",
    "> Se aplicará una evaluación (**exámen**) y se evaluará una presentación de **proyecto.**\n",
    "1. Programación lineal\n",
    "2. Ajuste de curvas\n",
    "3. Máximos y mínimos (sympy)\n",
    "4. Ejemplo: barra\n",
    "5. Clasificación \n",
    "6. Algoritmos genéticos\n",
    "7. PSO"
   ]
  },
  {
   "cell_type": "markdown",
   "metadata": {},
   "source": [
    "### `Evaluación y bibliografía sugerida`\n",
    "\n",
    "- <strong> 3 Proyectos (trabajo en equipo)       60%</strong>\n",
    " - Cada proyecto tiene un valor del 20% \n",
    "  - La evaluación de cada proyecto se divide en dos partes \n",
    "   - Reporte     10%\n",
    "   - Exposición  10% \n",
    "- **3 Examenes  30 %**\n",
    "- Tareas y actividades de clase 10 %\n",
    "- <font color=\"blue\">Equipos de 2 integrantes mínimo y 3 máximo</font>.\n",
    " - Si durante algún proyecto las cosas no funcionan entre los integrantes, para el siguiente proyecto se pueden formar equipos nuevos. "
   ]
  },
  {
   "cell_type": "markdown",
   "metadata": {},
   "source": [
    "### `Bibliografía `"
   ]
  },
  {
   "cell_type": "markdown",
   "metadata": {},
   "source": [
    "> ```\n",
    "- Fluent Python by Ramalho, Luciano \n",
    "- Python for Finance  by Hilpisch, Yves \n",
    "- Python for Scientists by Stewart, John M. ```\n",
    "Estos y muchos mas libros los pueden encontrar en la Biblioteca."
   ]
  },
  {
   "cell_type": "markdown",
   "metadata": {},
   "source": [
    "<script>\n",
    "  $(document).ready(function(){\n",
    "    $('div.prompt').hide();\n",
    "    $('div.back-to-top').hide();\n",
    "    $('nav#menubar').hide();\n",
    "    $('.breadcrumb').hide();\n",
    "    $('.hidden-print').hide();\n",
    "  });\n",
    "</script>\n",
    "\n",
    "<footer id=\"attribution\" style=\"float:right; color:#808080; background:#fff;\">\n",
    "Created with Jupyter by Lázaro Alonso.\n",
    "</footer>"
   ]
  }
 ],
 "metadata": {
  "anaconda-cloud": {},
  "hide_input": false,
  "kernelspec": {
   "display_name": "Python 3",
   "language": "python",
   "name": "python3"
  },
  "language_info": {
   "codemirror_mode": {
    "name": "ipython",
    "version": 3
   },
   "file_extension": ".py",
   "mimetype": "text/x-python",
   "name": "python",
   "nbconvert_exporter": "python",
   "pygments_lexer": "ipython3",
   "version": "3.5.2"
  },
  "toc": {
   "nav_menu": {},
   "number_sections": true,
   "sideBar": true,
   "skip_h1_title": false,
   "toc_cell": false,
   "toc_position": {},
   "toc_section_display": "block",
   "toc_window_display": false
  },
  "varInspector": {
   "cols": {
    "lenName": 16,
    "lenType": 16,
    "lenVar": 40
   },
   "kernels_config": {
    "python": {
     "delete_cmd_postfix": "",
     "delete_cmd_prefix": "del ",
     "library": "var_list.py",
     "varRefreshCmd": "print(var_dic_list())"
    },
    "r": {
     "delete_cmd_postfix": ") ",
     "delete_cmd_prefix": "rm(",
     "library": "var_list.r",
     "varRefreshCmd": "cat(var_dic_list()) "
    }
   },
   "types_to_exclude": [
    "module",
    "function",
    "builtin_function_or_method",
    "instance",
    "_Feature"
   ],
   "window_display": false
  }
 },
 "nbformat": 4,
 "nbformat_minor": 1
}
